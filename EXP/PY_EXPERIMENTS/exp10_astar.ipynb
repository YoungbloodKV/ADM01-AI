{
 "cells": [
  {
   "cell_type": "code",
   "execution_count": 1,
   "id": "b40d027a",
   "metadata": {},
   "outputs": [
    {
     "name": "stdout",
     "output_type": "stream",
     "text": [
      "============================================\n",
      " A* Algorithm Execution\n",
      " Executed by: KEERTHIVASAN.S, Register No: 192553013\n",
      "============================================\n",
      "\n",
      "✅ Optimal Path found: ['A', 'C', 'D', 'E']\n",
      "✅ Total Cost: 8\n",
      "\n",
      "Program executed successfully by KEERTHIVASAN.S (Reg No: 192553013)\n"
     ]
    }
   ],
   "source": [
    "# Experiment 10: A* Algorithm\n",
    "\n",
    "import heapq\n",
    "\n",
    "def a_star(graph, start, goal, heuristic):\n",
    "    # Priority queue stores (f, g, node, path)\n",
    "    open_set = []\n",
    "    heapq.heappush(open_set, (0, 0, start, [start]))\n",
    "    \n",
    "    visited = set()\n",
    "    \n",
    "    while open_set:\n",
    "        f, g, node, path = heapq.heappop(open_set)\n",
    "        \n",
    "        if node == goal:\n",
    "            return path, g\n",
    "        \n",
    "        if node in visited:\n",
    "            continue\n",
    "        visited.add(node)\n",
    "        \n",
    "        for neighbor, cost in graph[node].items():\n",
    "            if neighbor not in visited:\n",
    "                g_new = g + cost\n",
    "                h = heuristic[neighbor]\n",
    "                f_new = g_new + h\n",
    "                heapq.heappush(open_set, (f_new, g_new, neighbor, path+[neighbor]))\n",
    "    \n",
    "    return None, float(\"inf\")\n",
    "\n",
    "# Example Graph (with weights)\n",
    "graph = {\n",
    "    'A': {'B':1, 'C':4},\n",
    "    'B': {'A':1, 'C':2, 'D':5},\n",
    "    'C': {'A':4, 'B':2, 'D':1},\n",
    "    'D': {'B':5, 'C':1, 'E':3},\n",
    "    'E': {'D':3}\n",
    "}\n",
    "\n",
    "# Heuristic values (straight-line estimates to goal 'E')\n",
    "heuristic = {\n",
    "    'A': 7,\n",
    "    'B': 6,\n",
    "    'C': 2,\n",
    "    'D': 1,\n",
    "    'E': 0\n",
    "}\n",
    "\n",
    "# --- Execution Header ---\n",
    "print(\"============================================\")\n",
    "print(\" A* Algorithm Execution\")\n",
    "print(\" Executed by: KEERTHIVASAN.S, Register No: 192553013\")\n",
    "print(\"============================================\\n\")\n",
    "\n",
    "# Run A*\n",
    "path, cost = a_star(graph, 'A', 'E', heuristic)\n",
    "\n",
    "# --- Output ---\n",
    "print(\"✅ Optimal Path found:\", path)\n",
    "print(\"✅ Total Cost:\", cost)\n",
    "print(\"\\nProgram executed successfully by KEERTHIVASAN.S (Reg No: 192553013)\")\n"
   ]
  }
 ],
 "metadata": {
  "kernelspec": {
   "display_name": "Python 3.13.5 (Warehouse)",
   "language": "python",
   "name": "py3.13.5"
  },
  "language_info": {
   "codemirror_mode": {
    "name": "ipython",
    "version": 3
   },
   "file_extension": ".py",
   "mimetype": "text/x-python",
   "name": "python",
   "nbconvert_exporter": "python",
   "pygments_lexer": "ipython3",
   "version": "3.10.9"
  }
 },
 "nbformat": 4,
 "nbformat_minor": 5
}
